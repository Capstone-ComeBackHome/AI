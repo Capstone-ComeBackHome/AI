{
  "nbformat": 4,
  "nbformat_minor": 0,
  "metadata": {
    "colab": {
      "name": "train augmentation / test.ipynb",
      "provenance": [],
      "collapsed_sections": []
    },
    "kernelspec": {
      "name": "python3",
      "display_name": "Python 3"
    },
    "language_info": {
      "name": "python"
    }
  },
  "cells": [
    {
      "cell_type": "code",
      "source": [
        "import pandas as pd\n",
        "import numpy as np\n",
        "import os"
      ],
      "metadata": {
        "id": "4JjC3Qf2mUb2"
      },
      "execution_count": 1,
      "outputs": []
    },
    {
      "cell_type": "code",
      "source": [
        "cd /content/drive/MyDrive/2022-1/캡스톤/comebackhome"
      ],
      "metadata": {
        "colab": {
          "base_uri": "https://localhost:8080/"
        },
        "id": "ySBmOcDgl0L-",
        "outputId": "b1856938-e33a-4fc8-b4b6-30f568875b28"
      },
      "execution_count": 2,
      "outputs": [
        {
          "output_type": "stream",
          "name": "stdout",
          "text": [
            "/content/drive/MyDrive/2022-1/캡스톤/comebackhome\n"
          ]
        }
      ]
    },
    {
      "cell_type": "code",
      "source": [
        "!pip install --upgrade google-cloud-translate"
      ],
      "metadata": {
        "colab": {
          "base_uri": "https://localhost:8080/"
        },
        "id": "WnPwYv5D845D",
        "outputId": "16dd447a-f437-49f4-a055-28dac2187c53"
      },
      "execution_count": 3,
      "outputs": [
        {
          "output_type": "stream",
          "name": "stdout",
          "text": [
            "Looking in indexes: https://pypi.org/simple, https://us-python.pkg.dev/colab-wheels/public/simple/\n",
            "Requirement already satisfied: google-cloud-translate in /usr/local/lib/python3.7/dist-packages (3.7.4)\n",
            "Requirement already satisfied: protobuf<4.0.0dev,>=3.19.0 in /usr/local/lib/python3.7/dist-packages (from google-cloud-translate) (3.20.1)\n",
            "Requirement already satisfied: proto-plus<2.0.0dev,>=1.15.0 in /usr/local/lib/python3.7/dist-packages (from google-cloud-translate) (1.20.6)\n",
            "Requirement already satisfied: google-cloud-core<3.0.0dev,>=1.3.0 in /usr/local/lib/python3.7/dist-packages (from google-cloud-translate) (2.3.1)\n",
            "Requirement already satisfied: google-api-core[grpc]!=2.0.*,!=2.1.*,!=2.2.*,!=2.3.0,<3.0.0dev,>=1.31.5 in /usr/local/lib/python3.7/dist-packages (from google-cloud-translate) (1.31.6)\n",
            "Requirement already satisfied: six>=1.13.0 in /usr/local/lib/python3.7/dist-packages (from google-api-core[grpc]!=2.0.*,!=2.1.*,!=2.2.*,!=2.3.0,<3.0.0dev,>=1.31.5->google-cloud-translate) (1.15.0)\n",
            "Requirement already satisfied: packaging>=14.3 in /usr/local/lib/python3.7/dist-packages (from google-api-core[grpc]!=2.0.*,!=2.1.*,!=2.2.*,!=2.3.0,<3.0.0dev,>=1.31.5->google-cloud-translate) (21.3)\n",
            "Requirement already satisfied: setuptools>=40.3.0 in /usr/local/lib/python3.7/dist-packages (from google-api-core[grpc]!=2.0.*,!=2.1.*,!=2.2.*,!=2.3.0,<3.0.0dev,>=1.31.5->google-cloud-translate) (57.4.0)\n",
            "Requirement already satisfied: google-auth<2.0dev,>=1.25.0 in /usr/local/lib/python3.7/dist-packages (from google-api-core[grpc]!=2.0.*,!=2.1.*,!=2.2.*,!=2.3.0,<3.0.0dev,>=1.31.5->google-cloud-translate) (1.35.0)\n",
            "Requirement already satisfied: pytz in /usr/local/lib/python3.7/dist-packages (from google-api-core[grpc]!=2.0.*,!=2.1.*,!=2.2.*,!=2.3.0,<3.0.0dev,>=1.31.5->google-cloud-translate) (2022.1)\n",
            "Requirement already satisfied: requests<3.0.0dev,>=2.18.0 in /usr/local/lib/python3.7/dist-packages (from google-api-core[grpc]!=2.0.*,!=2.1.*,!=2.2.*,!=2.3.0,<3.0.0dev,>=1.31.5->google-cloud-translate) (2.23.0)\n",
            "Requirement already satisfied: googleapis-common-protos<2.0dev,>=1.6.0 in /usr/local/lib/python3.7/dist-packages (from google-api-core[grpc]!=2.0.*,!=2.1.*,!=2.2.*,!=2.3.0,<3.0.0dev,>=1.31.5->google-cloud-translate) (1.56.2)\n",
            "Requirement already satisfied: grpcio<2.0dev,>=1.29.0 in /usr/local/lib/python3.7/dist-packages (from google-api-core[grpc]!=2.0.*,!=2.1.*,!=2.2.*,!=2.3.0,<3.0.0dev,>=1.31.5->google-cloud-translate) (1.46.3)\n",
            "Requirement already satisfied: rsa<5,>=3.1.4 in /usr/local/lib/python3.7/dist-packages (from google-auth<2.0dev,>=1.25.0->google-api-core[grpc]!=2.0.*,!=2.1.*,!=2.2.*,!=2.3.0,<3.0.0dev,>=1.31.5->google-cloud-translate) (4.8)\n",
            "Requirement already satisfied: cachetools<5.0,>=2.0.0 in /usr/local/lib/python3.7/dist-packages (from google-auth<2.0dev,>=1.25.0->google-api-core[grpc]!=2.0.*,!=2.1.*,!=2.2.*,!=2.3.0,<3.0.0dev,>=1.31.5->google-cloud-translate) (4.2.4)\n",
            "Requirement already satisfied: pyasn1-modules>=0.2.1 in /usr/local/lib/python3.7/dist-packages (from google-auth<2.0dev,>=1.25.0->google-api-core[grpc]!=2.0.*,!=2.1.*,!=2.2.*,!=2.3.0,<3.0.0dev,>=1.31.5->google-cloud-translate) (0.2.8)\n",
            "Requirement already satisfied: pyparsing!=3.0.5,>=2.0.2 in /usr/local/lib/python3.7/dist-packages (from packaging>=14.3->google-api-core[grpc]!=2.0.*,!=2.1.*,!=2.2.*,!=2.3.0,<3.0.0dev,>=1.31.5->google-cloud-translate) (3.0.9)\n",
            "Requirement already satisfied: pyasn1<0.5.0,>=0.4.6 in /usr/local/lib/python3.7/dist-packages (from pyasn1-modules>=0.2.1->google-auth<2.0dev,>=1.25.0->google-api-core[grpc]!=2.0.*,!=2.1.*,!=2.2.*,!=2.3.0,<3.0.0dev,>=1.31.5->google-cloud-translate) (0.4.8)\n",
            "Requirement already satisfied: chardet<4,>=3.0.2 in /usr/local/lib/python3.7/dist-packages (from requests<3.0.0dev,>=2.18.0->google-api-core[grpc]!=2.0.*,!=2.1.*,!=2.2.*,!=2.3.0,<3.0.0dev,>=1.31.5->google-cloud-translate) (3.0.4)\n",
            "Requirement already satisfied: urllib3!=1.25.0,!=1.25.1,<1.26,>=1.21.1 in /usr/local/lib/python3.7/dist-packages (from requests<3.0.0dev,>=2.18.0->google-api-core[grpc]!=2.0.*,!=2.1.*,!=2.2.*,!=2.3.0,<3.0.0dev,>=1.31.5->google-cloud-translate) (1.24.3)\n",
            "Requirement already satisfied: idna<3,>=2.5 in /usr/local/lib/python3.7/dist-packages (from requests<3.0.0dev,>=2.18.0->google-api-core[grpc]!=2.0.*,!=2.1.*,!=2.2.*,!=2.3.0,<3.0.0dev,>=1.31.5->google-cloud-translate) (2.10)\n",
            "Requirement already satisfied: certifi>=2017.4.17 in /usr/local/lib/python3.7/dist-packages (from requests<3.0.0dev,>=2.18.0->google-api-core[grpc]!=2.0.*,!=2.1.*,!=2.2.*,!=2.3.0,<3.0.0dev,>=1.31.5->google-cloud-translate) (2022.6.15)\n"
          ]
        }
      ]
    },
    {
      "cell_type": "markdown",
      "source": [
        "# 1. 번역기 생성"
      ],
      "metadata": {
        "id": "BrZjlWpZ--An"
      }
    },
    {
      "cell_type": "code",
      "source": [
        "from google.cloud import translate_v3beta1 as translate"
      ],
      "metadata": {
        "id": "0HVwQTEn7s7s"
      },
      "execution_count": 4,
      "outputs": []
    },
    {
      "cell_type": "code",
      "source": [
        "def get_googlecloud_tranlator(project_id, location, service_key, return_parent = True):\n",
        "    os.environ['GOOGLE_APPLICATION_CREDENTIALS'] = service_key\n",
        "    parent = f\"projects/{project_id}/locations/{location}\"\n",
        "    client = translate.TranslationServiceClient()\n",
        "    if return_parent :\n",
        "        return parent, client\n",
        "    return client"
      ],
      "metadata": {
        "id": "HwepkZ_77ziZ"
      },
      "execution_count": 5,
      "outputs": []
    },
    {
      "cell_type": "code",
      "source": [
        "def back_translate(x, client, parent, dest):\n",
        "    if not x:\n",
        "        return x\n",
        "\n",
        "    response = client.translate_text(\n",
        "                request = {\n",
        "                    \"parent\": parent,\n",
        "                    \"contents\" : [x],\n",
        "                    \"mime_type\" : \"text/plain\",\n",
        "                    \"source_language_code\" : \"ko\", \n",
        "                    \"target_language_code\" : dest,\n",
        "                    }\n",
        "            )\n",
        "    x = response.translations[0].translated_text\n",
        "    response = client.translate_text(\n",
        "                request = {\n",
        "                    \"parent\": parent,\n",
        "                    \"contents\" : [x],\n",
        "                    \"mime_type\" : \"text/plain\",\n",
        "                    \"source_language_code\" : dest, \n",
        "                    \"target_language_code\" : \"ko\"\n",
        "                    }\n",
        "            )\n",
        "    x = response.translations[0].translated_text\n",
        "    return x"
      ],
      "metadata": {
        "id": "Z_TEAgfl7zf7"
      },
      "execution_count": 17,
      "outputs": []
    },
    {
      "cell_type": "code",
      "source": [
        "key = 'snappy-lattice-352109-c99183be3c3c.json'\n",
        "project_id =  \"snappy-lattice-352109\"\n",
        "location = \"global\"\n",
        "parent, translator = get_googlecloud_tranlator(project_id, location, key)"
      ],
      "metadata": {
        "id": "qXhZPNUo9Vq3"
      },
      "execution_count": 7,
      "outputs": []
    },
    {
      "cell_type": "markdown",
      "source": [
        "# 2. back translation을 이용한 Data Augmentation\n",
        "참고문헌 : Sergey Edunov et al. 2018. Understanding Back-Translation at Scale. 2018. arXiv 1808.09381 "
      ],
      "metadata": {
        "id": "mOJ8MR27_A8V"
      }
    },
    {
      "cell_type": "markdown",
      "source": [
        "#### 샘플이 5개 이하인 클래스의 트레인데이터만 증강"
      ],
      "metadata": {
        "id": "xdxeVpu1_u0z"
      }
    },
    {
      "cell_type": "code",
      "source": [
        "df = pd.read_csv(\"dataset_ver2.csv\")"
      ],
      "metadata": {
        "id": "EQ7PJn9JmRjf"
      },
      "execution_count": 10,
      "outputs": []
    },
    {
      "cell_type": "code",
      "source": [
        "df = df.fillna(\"\")"
      ],
      "metadata": {
        "id": "HkgXlD5XOer9"
      },
      "execution_count": 11,
      "outputs": []
    },
    {
      "cell_type": "code",
      "source": [
        "target_counts = df['level5/diagnosis'].value_counts().reset_index()\n",
        "target_counts.columns = ['diagnosis', 'counts']\n",
        "under_5 = target_counts.loc[target_counts.counts <= 5, 'diagnosis'].unique()"
      ],
      "metadata": {
        "id": "I-1aSlFjdzVM"
      },
      "execution_count": 12,
      "outputs": []
    },
    {
      "cell_type": "code",
      "source": [
        "from sklearn.model_selection import train_test_split\n",
        "X_train, X_test, y_train, y_test = train_test_split(df.drop('level5/diagnosis', axis = 1), df['level5/diagnosis'], random_state = 0, stratify = df['level5/diagnosis']) \n",
        "\n",
        "X_train.to_csv(\"X_train.csv\", index = False)\n",
        "X_test.to_csv(\"X_test.csv\", index = False)\n",
        "y_train.to_csv(\"y_train.csv\", index = False)\n",
        "y_test.to_csv(\"y_test.csv\", index = False)"
      ],
      "metadata": {
        "id": "Gn-J5HRez5ZR"
      },
      "execution_count": 13,
      "outputs": []
    },
    {
      "cell_type": "code",
      "source": [
        "X_train_trans = X_train.loc[[y in under_5 for y in y_train]]\n",
        "y_trans = y_train.loc[[y in under_5 for y in y_train['level5/diagnosis']]].reset_index(drop = True)"
      ],
      "metadata": {
        "id": "vSBYGeiVgWkL"
      },
      "execution_count": 15,
      "outputs": []
    },
    {
      "cell_type": "markdown",
      "source": [
        "#### 영어, 독일어, 중국어, 일본어, 스페인어를 이용하여 back translate"
      ],
      "metadata": {
        "id": "-ZOHAIHmBGRh"
      }
    },
    {
      "cell_type": "code",
      "source": [
        "X_train_eng = X_train_trans.copy()\n",
        "X_train_ger = X_train_trans.copy()\n",
        "X_train_china = X_train_trans.copy() #zh-cn\n",
        "X_train_ja = X_train_trans.copy()\n",
        "X_train_spanish = X_train_trans.copy()  #es"
      ],
      "metadata": {
        "id": "3ZJwcAeL0_ah"
      },
      "execution_count": null,
      "outputs": []
    },
    {
      "cell_type": "code",
      "source": [
        "trans_features = ['Chief complaint', 'Onset', 'Location', 'Duration', 'Course', 'Experience', 'Character', 'Associated Sx.', 'Factor', 'Event', '사회력', '외상력']\n",
        "for f in trans_features:\n",
        "    X_train_eng[f] = X_train_eng[f].apply(back_translate, args = (translator, parent, \"en\",))\n",
        "    X_train_ger[f] = X_train_ger[f].apply(back_translate, args = (translator, parent, \"ger\",))\n",
        "    X_train_china[f] = X_train_china[f].apply(back_translate, args = (translator, parent, \"zh_cn\",))\n",
        "    X_train_ja[f] = X_train_ja[f].apply(back_translate, args = (translator, parent, \"ja\",))\n",
        "    X_train_spanish[f] = X_train_spanish[f].apply(back_translate, args = (translator, parent, \"es\",))"
      ],
      "metadata": {
        "id": "5YCu96jkMrQZ"
      },
      "execution_count": null,
      "outputs": []
    },
    {
      "cell_type": "code",
      "source": [
        "X_train = pd.concat([X_train, y_train], axis = 1)\n",
        "X_train_ger = pd.concat([X_train_ger, y_trans], axis = 1)\n",
        "X_train_china = pd.concat([X_train_china, y_trans], axis = 1)\n",
        "X_train_ja = pd.concat([X_train_ja, y_trans], axis = 1)\n",
        "X_train_spanish = pd.concat([X_train_spanish, y_trans], axis = 1)"
      ],
      "metadata": {
        "id": "JeHHwkzNBhpF"
      },
      "execution_count": null,
      "outputs": []
    },
    {
      "cell_type": "code",
      "source": [
        "X_train = pd.concat([X_train, X_train_ger, X_train_china, X_train_ja, X_train_spanish]).reset_index(drop = True)"
      ],
      "metadata": {
        "id": "0P4wjGGbB0t5"
      },
      "execution_count": null,
      "outputs": []
    },
    {
      "cell_type": "code",
      "source": [
        "X_train = X_train.sample(frac = 1)"
      ],
      "metadata": {
        "id": "4fZjxvudB2i0"
      },
      "execution_count": null,
      "outputs": []
    },
    {
      "cell_type": "code",
      "source": [
        "y_train_trans = X_train['level5/diagnosis']\n",
        "y_train_trans.to_csv(\"y_train_trans.csv\", index = False)\n",
        "\n",
        "X_train_trans = X_train.drop('level5/diagnosis', axis = 1)\n",
        "X_train_trans.to_csv(\"X_train_trans.csv\", index = False)"
      ],
      "metadata": {
        "id": "RBjb6ga4B7TQ"
      },
      "execution_count": null,
      "outputs": []
    }
  ]
}